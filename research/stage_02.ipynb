{
 "cells": [
  {
   "cell_type": "code",
   "execution_count": 1,
   "metadata": {},
   "outputs": [],
   "source": []
  },
  {
   "cell_type": "code",
   "execution_count": 4,
   "metadata": {},
   "outputs": [
    {
     "data": {
      "text/plain": [
       "<git.repo.base.Repo '/Users/vikaslakka/Desktop/FSDS/Computer_vision/projects/vehicle_detection_YOLO/research/yolo/.git'>"
      ]
     },
     "execution_count": 4,
     "metadata": {},
     "output_type": "execute_result"
    }
   ],
   "source": [
    "#Repo.clone_from('https://github.com/ultralytics/yolov5.git', 'yolo')"
   ]
  },
  {
   "cell_type": "code",
   "execution_count": 1,
   "metadata": {},
   "outputs": [],
   "source": [
    "import os"
   ]
  },
  {
   "cell_type": "code",
   "execution_count": 2,
   "metadata": {},
   "outputs": [
    {
     "data": {
      "text/plain": [
       "'/Users/vikaslakka/Desktop/FSDS/Computer_vision/projects/vehicle_detection_YOLO/research'"
      ]
     },
     "execution_count": 2,
     "metadata": {},
     "output_type": "execute_result"
    }
   ],
   "source": [
    "os.getcwd()"
   ]
  },
  {
   "cell_type": "code",
   "execution_count": 3,
   "metadata": {},
   "outputs": [],
   "source": [
    "os.chdir('/Users/vikaslakka/Desktop/FSDS/Computer_vision/projects/vehicle_detection_YOLO')"
   ]
  },
  {
   "cell_type": "code",
   "execution_count": 4,
   "metadata": {},
   "outputs": [
    {
     "data": {
      "text/plain": [
       "'/Users/vikaslakka/Desktop/FSDS/Computer_vision/projects/vehicle_detection_YOLO'"
      ]
     },
     "execution_count": 4,
     "metadata": {},
     "output_type": "execute_result"
    }
   ],
   "source": [
    "os.getcwd()"
   ]
  },
  {
   "cell_type": "code",
   "execution_count": 5,
   "metadata": {},
   "outputs": [],
   "source": [
    "from vehicle_detection.constants import *\n",
    "from vehicle_detection.constants import YOLO_V_5S_FILE_PATH\n",
    "from vehicle_detection.utils import *\n",
    "from IPython.display import Image, clear_output  # to display images\n",
    "import yaml ## For creating and modifying yaml files\n",
    "from vehicle_detection import logger\n"
   ]
  },
  {
   "cell_type": "markdown",
   "metadata": {},
   "source": [
    "### Entity Config"
   ]
  },
  {
   "cell_type": "code",
   "execution_count": 6,
   "metadata": {},
   "outputs": [],
   "source": [
    "from dataclasses import dataclass\n",
    "from pathlib import Path\n",
    "\n",
    "@dataclass(frozen=True)\n",
    "class PrepareBaseModelConfig:\n",
    "    root_dir: Path\n",
    "    base_model_link: str\n",
    "    base_model_path: Path\n",
    "    params_image_size: int\n",
    "    params_batch: int\n",
    "    params_epochs: int\n",
    "    params_classes: list\n"
   ]
  },
  {
   "cell_type": "markdown",
   "metadata": {},
   "source": [
    "### Configuration"
   ]
  },
  {
   "cell_type": "code",
   "execution_count": 7,
   "metadata": {},
   "outputs": [],
   "source": [
    "class ConfigurationManager:\n",
    "    def __init__(self,\n",
    "                 config_filepath= CONFIG_FILE_PATH,\n",
    "                 params_filepath= PARAMS_FILE_PATH,\n",
    "                 yolo_v_5s_filepath= YOLO_V_5S_FILE_PATH,\n",
    "                 yolo_params_filepath= YOLO_PARAMS_FILE_PATH):\n",
    "        \"\"\"\n",
    "        Creating artifact directories from config.yaml file\n",
    "        \"\"\"\n",
    "        self.config= read_yaml(config_filepath)\n",
    "        self.params= read_yaml(params_filepath)\n",
    "        self.yolo_v_5s= read_yaml(yolo_v_5s_filepath)\n",
    "        self.yolo_params= read_yaml(yolo_params_filepath)\n",
    "        ##Creating Directories\n",
    "        create_directories([self.config.artifacts_root])\n",
    "    \n",
    "    ###Prepare basemodel Config\n",
    "    def get_prepare_base_model_config(self) -> PrepareBaseModelConfig:\n",
    "        \"\"\"Get all the details that are required to download yolo version\n",
    "\n",
    "        Returns:\n",
    "            PrepareBaseModelConfig: PrepareBaseModelConfig\n",
    "        \"\"\"\n",
    "        config= self.config.prepare_base_model\n",
    "        params= self.params\n",
    "        logger.info(\"base model parameters loaded\")\n",
    "        ##Create root directory for preparebasemodel\n",
    "        create_directories([config.root_dir])\n",
    "        logger.info(f\"Root directory: {config.root_dir} has created\")\n",
    "\n",
    "        prepare_base_model_config= PrepareBaseModelConfig(\n",
    "            root_dir= config.root_dir,\n",
    "            base_model_link= config.base_model_link,\n",
    "            base_model_path= config.base_model_path,\n",
    "            params_image_size= params.IMAGE,\n",
    "            params_batch= params.BATCH,\n",
    "            params_epochs= params.EPOCHS,\n",
    "            params_classes= params.NAMES\n",
    "            \n",
    "        )\n",
    "        return prepare_base_model_config"
   ]
  },
  {
   "cell_type": "markdown",
   "metadata": {},
   "source": [
    "### Component"
   ]
  },
  {
   "cell_type": "code",
   "execution_count": 8,
   "metadata": {},
   "outputs": [],
   "source": [
    "from git import Repo\n"
   ]
  },
  {
   "cell_type": "code",
   "execution_count": 9,
   "metadata": {},
   "outputs": [],
   "source": [
    "class PrepareBaseModel:\n",
    "    \"\"\"Download model from yolo and get all the details that are required for training\n",
    "    \"\"\"\n",
    "    def __init__(self, config: PrepareBaseModelConfig):\n",
    "        self.config= config\n",
    "    \n",
    "    ##Get the base model\n",
    "    def get_base_model(self):\n",
    "        config= self.config\n",
    "        ##Download base model from github\n",
    "        Repo.clone_from(config.base_model_link, config.base_model_path)\n",
    "        logger.info(f\"repository cloned in {config.base_model_path}\")"
   ]
  },
  {
   "cell_type": "code",
   "execution_count": 10,
   "metadata": {},
   "outputs": [
    {
     "name": "stdout",
     "output_type": "stream",
     "text": [
      "[2023-10-07 22:58:14,124: INFO: common]: yaml file:configs/config.yaml loaded successfully\n",
      "[2023-10-07 22:58:14,128: INFO: common]: yaml file:params.yaml loaded successfully\n",
      "[2023-10-07 22:58:14,141: INFO: common]: yaml file:configs/yolov5s.yaml loaded successfully\n",
      "[2023-10-07 22:58:14,144: INFO: common]: yaml file:configs/yolo_params.yaml loaded successfully\n",
      "[2023-10-07 22:58:14,145: INFO: common]: Created directory at:artifacts\n",
      "[2023-10-07 22:58:14,146: INFO: 917120542]: base model parameters loaded\n",
      "[2023-10-07 22:58:14,146: INFO: common]: Created directory at:artifacts/prepare_base_model\n",
      "[2023-10-07 22:58:14,147: INFO: 917120542]: Root directory: artifacts/prepare_base_model has created\n",
      "[2023-10-07 22:58:16,537: INFO: 2006192238]: repository cloned in artifacts/prepare_base_model/yolo\n"
     ]
    }
   ],
   "source": [
    "try:\n",
    "    modelconfig= ConfigurationManager()\n",
    "    prepare_base_model_config= modelconfig.get_prepare_base_model_config()\n",
    "    prepare_base_model= PrepareBaseModel(prepare_base_model_config)\n",
    "    prepare_base_model.get_base_model()\n",
    "\n",
    "except Exception as e:\n",
    "    e"
   ]
  },
  {
   "cell_type": "code",
   "execution_count": null,
   "metadata": {},
   "outputs": [],
   "source": []
  },
  {
   "cell_type": "code",
   "execution_count": null,
   "metadata": {},
   "outputs": [],
   "source": []
  }
 ],
 "metadata": {
  "kernelspec": {
   "display_name": "vehicledetector",
   "language": "python",
   "name": "python3"
  },
  "language_info": {
   "codemirror_mode": {
    "name": "ipython",
    "version": 3
   },
   "file_extension": ".py",
   "mimetype": "text/x-python",
   "name": "python",
   "nbconvert_exporter": "python",
   "pygments_lexer": "ipython3",
   "version": "3.9.18"
  }
 },
 "nbformat": 4,
 "nbformat_minor": 2
}
