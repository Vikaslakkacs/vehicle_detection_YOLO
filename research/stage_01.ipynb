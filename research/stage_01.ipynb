{
 "cells": [
  {
   "cell_type": "code",
   "execution_count": 57,
   "metadata": {},
   "outputs": [],
   "source": [
    "from collections import namedtuple\n",
    "import os\n",
    "import urllib.request as request\n",
    "from zipfile import ZipFile\n",
    "import shutil"
   ]
  },
  {
   "cell_type": "code",
   "execution_count": 2,
   "metadata": {},
   "outputs": [
    {
     "data": {
      "text/plain": [
       "'/Users/vikaslakka/Desktop/FSDS/Computer_vision/projects/vehicle_detection_YOLO/research'"
      ]
     },
     "execution_count": 2,
     "metadata": {},
     "output_type": "execute_result"
    }
   ],
   "source": [
    "os.getcwd()"
   ]
  },
  {
   "cell_type": "code",
   "execution_count": 3,
   "metadata": {},
   "outputs": [
    {
     "data": {
      "text/plain": [
       "False"
      ]
     },
     "execution_count": 3,
     "metadata": {},
     "output_type": "execute_result"
    }
   ],
   "source": [
    "os.path.exists(\"dataset/dataset.zip\")"
   ]
  },
  {
   "cell_type": "code",
   "execution_count": 4,
   "metadata": {},
   "outputs": [],
   "source": [
    "## Change working directory\n",
    "os.chdir(\"/Users/vikaslakka/Desktop/FSDS/Computer_vision/projects/vehicle_detection_YOLO\")"
   ]
  },
  {
   "cell_type": "code",
   "execution_count": 86,
   "metadata": {},
   "outputs": [],
   "source": [
    "## Create Dataingestion config\n",
    "DataIngestionConfig= namedtuple(\"DataIngestionConfig\",\n",
    "                                [\n",
    "                                    \"root_dir\",\n",
    "                                    \"source_url\",\n",
    "                                    \"local_data_file\",\n",
    "                                    \"unzip_dir\",\n",
    "                                    \"zip_file_dir\"\n",
    "                                    \"dataset_source\"\n",
    "\n",
    "                                ])"
   ]
  },
  {
   "cell_type": "code",
   "execution_count": 87,
   "metadata": {},
   "outputs": [],
   "source": [
    "## Create data classes to consider from data ingestion Configs\n",
    "from dataclasses import dataclass\n",
    "from pathlib import Path\n",
    "\n",
    "@dataclass(frozen=True)\n",
    "class DataIngestionConfig:\n",
    "    root_dir: Path\n",
    "    source_url: str\n",
    "    local_data_file: Path\n",
    "    unzip_dir: Path\n",
    "    zip_file_dir: Path\n",
    "    dataset_source: Path"
   ]
  },
  {
   "cell_type": "markdown",
   "metadata": {},
   "source": [
    "#### Unzipping the dataset available and storing to right folder"
   ]
  },
  {
   "cell_type": "code",
   "execution_count": 63,
   "metadata": {},
   "outputs": [],
   "source": [
    "from vehicle_detection.constants import *\n",
    "from vehicle_detection.utils.common import read_yaml, create_directories"
   ]
  },
  {
   "cell_type": "code",
   "execution_count": 88,
   "metadata": {},
   "outputs": [],
   "source": [
    "class ConfiguraionManager:\n",
    "    def __init__(self,\n",
    "                 config_filepath= CONFIG_FILE_PATH,\n",
    "                 params_filepath= PARAMS_FILE_PATH):\n",
    "        \"\"\"\n",
    "        Creating artifact directories from config.yaml file\n",
    "        \"\"\"\n",
    "        self.config= read_yaml(config_filepath)\n",
    "        self.params= read_yaml(params_filepath)\n",
    "        ##Creating Directories\n",
    "        create_directories([self.config.artifacts_root])\n",
    "    \n",
    "    def get_data_ingestion_config(self) -> DataIngestionConfig:\n",
    "        \"\"\"Creating directory for data ingestion from config.yaml file.\n",
    "\n",
    "        Returns:\n",
    "            DataIngestionConfig: Dataingestion data\n",
    "        \"\"\"\n",
    "        config= self.config.data_ingestion\n",
    "        ##Create directory that are required for data ingestion(taken from config.yaml)\n",
    "        create_directories([config.root_dir])\n",
    "\n",
    "        data_ingestion_config= DataIngestionConfig(\n",
    "            root_dir= config.root_dir,\n",
    "            source_url= config.source_url,\n",
    "            local_data_file= config.local_data_file,\n",
    "            unzip_dir= config.unzip_dir,\n",
    "            zip_file_dir= config.zip_file_dir,\n",
    "            dataset_source= config.dataset_source\n",
    "        )\n",
    "        return data_ingestion_config\n",
    "\n"
   ]
  },
  {
   "cell_type": "markdown",
   "metadata": {},
   "source": [
    "### now create data set and download into respective folders"
   ]
  },
  {
   "cell_type": "code",
   "execution_count": 95,
   "metadata": {},
   "outputs": [],
   "source": [
    "## Data Ingestion component\n",
    "class DataIngestion:\n",
    "    def __init__(self, config: DataIngestionConfig):\n",
    "        self.config= config\n",
    "    def _preprocess(self, zf: ZipFile, f:str, working_dir:str):\n",
    "        \"\"\"places all files into target folder\n",
    "           ignores files which has size of zero\n",
    "\n",
    "        Args:\n",
    "            zf (ZipFile): Zip file\n",
    "            f (str): file name with path\n",
    "            working_dir (str): targer working directory\n",
    "        \"\"\"\n",
    "        target_filepath= os.path.join(working_dir, f)\n",
    "        dir_name= os.path.dirname(target_filepath)\n",
    "        #print(f\"filepath: {f}\")\n",
    "        \n",
    "        if not os.path.exists(dir_name):\n",
    "            os.mkdir(dir_name)##Create file folder\n",
    "        print(f\"target file path: {target_filepath}\")\n",
    "        \n",
    "        \n",
    "        \n",
    "        ##If the folder has size of zero then delete.\n",
    "        if os.path.getsize(target_filepath)==0:\n",
    "            os.remove(target_filepath)\n",
    "    def copy_dataset_destination(self, source: Path, destination: Path):\n",
    "        ###Copy dataset into Data ingestion folder\n",
    "        shutil.copy2(source, destination)\n",
    "        \n",
    "    def unzip_and_clean(self):\n",
    "        \"\"\"unzip the dataset and clean the files \n",
    "           which has zero size\n",
    "        \"\"\"\n",
    "        ##print(self.config.local_data_file)\n",
    "        with ZipFile(file= self.config.local_data_file, mode=\"r\") as zf:\n",
    "            ##Getting the list of files available.\n",
    "            list_of_files= zf.namelist()\n",
    "            zf.extractall(self.config.unzip_dir)\n",
    "\n",
    "            ##extracting files that has only filename dataset\n",
    "            '''for f in list_of_files:\n",
    "                self._preprocess(zf, f, self.config.unzip_dir)'''"
   ]
  },
  {
   "cell_type": "markdown",
   "metadata": {},
   "source": [
    "### Try out Data ingestion"
   ]
  },
  {
   "cell_type": "code",
   "execution_count": 97,
   "metadata": {},
   "outputs": [
    {
     "name": "stdout",
     "output_type": "stream",
     "text": [
      "[2023-09-26 09:32:29,770: INFO: common]: yaml file:configs/config.yaml loaded successfully\n",
      "[2023-09-26 09:32:29,772: INFO: common]: yaml file:params.yaml loaded successfully\n",
      "[2023-09-26 09:32:29,773: INFO: common]: Created directory at:artifacts\n",
      "[2023-09-26 09:32:29,774: INFO: common]: Created directory at:artifacts/data_ingestion\n"
     ]
    }
   ],
   "source": [
    "try:\n",
    "    config= ConfiguraionManager()\n",
    "    data_ingestion_config= config.get_data_ingestion_config()\n",
    "    data_ingestion= DataIngestion(config= data_ingestion_config)\n",
    "    data_ingestion.copy_dataset_destination(data_ingestion_config.dataset_source, data_ingestion_config.unzip_dir)\n",
    "    data_ingestion.unzip_and_clean()\n",
    "except Exception as e:\n",
    "    raise e"
   ]
  },
  {
   "cell_type": "code",
   "execution_count": null,
   "metadata": {},
   "outputs": [],
   "source": []
  }
 ],
 "metadata": {
  "kernelspec": {
   "display_name": "vehicledetector",
   "language": "python",
   "name": "python3"
  },
  "language_info": {
   "codemirror_mode": {
    "name": "ipython",
    "version": 3
   },
   "file_extension": ".py",
   "mimetype": "text/x-python",
   "name": "python",
   "nbconvert_exporter": "python",
   "pygments_lexer": "ipython3",
   "version": "3.9.18"
  },
  "orig_nbformat": 4
 },
 "nbformat": 4,
 "nbformat_minor": 2
}
