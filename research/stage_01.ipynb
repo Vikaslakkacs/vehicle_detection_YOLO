{
 "cells": [
  {
   "cell_type": "code",
   "execution_count": 36,
   "metadata": {},
   "outputs": [],
   "source": [
    "from collections import namedtuple\n",
    "import os\n",
    "import urllib.request as request\n",
    "from zipfile import ZipFile\n",
    "import shutil\n",
    "import pybboxes as pbx\n",
    "import pandas as pd"
   ]
  },
  {
   "cell_type": "code",
   "execution_count": 37,
   "metadata": {},
   "outputs": [
    {
     "data": {
      "text/plain": [
       "'/Users/vikaslakka/Desktop/FSDS/Computer_vision/projects/vehicle_detection_YOLO'"
      ]
     },
     "execution_count": 37,
     "metadata": {},
     "output_type": "execute_result"
    }
   ],
   "source": [
    "os.getcwd()"
   ]
  },
  {
   "cell_type": "code",
   "execution_count": 38,
   "metadata": {},
   "outputs": [
    {
     "data": {
      "text/plain": [
       "True"
      ]
     },
     "execution_count": 38,
     "metadata": {},
     "output_type": "execute_result"
    }
   ],
   "source": [
    "os.path.exists(\"dataset/dataset.zip\")"
   ]
  },
  {
   "cell_type": "code",
   "execution_count": 39,
   "metadata": {},
   "outputs": [],
   "source": [
    "## Change working directory\n",
    "os.chdir(\"/Users/vikaslakka/Desktop/FSDS/Computer_vision/projects/vehicle_detection_YOLO\")"
   ]
  },
  {
   "cell_type": "code",
   "execution_count": 40,
   "metadata": {},
   "outputs": [],
   "source": [
    "## Create Dataingestion config\n",
    "DataIngestionConfig= namedtuple(\"DataIngestionConfig\",\n",
    "                                [\n",
    "                                    \"root_dir\",\n",
    "                                    \"source_url\",\n",
    "                                    \"local_data_file\",\n",
    "                                    \"unzip_dir\",\n",
    "                                    \"zip_file_dir\"\n",
    "                                    \"dataset_source\"\n",
    "\n",
    "                                ])"
   ]
  },
  {
   "cell_type": "code",
   "execution_count": 41,
   "metadata": {},
   "outputs": [],
   "source": [
    "## Create data classes to consider from data ingestion Configs\n",
    "from dataclasses import dataclass\n",
    "from pathlib import Path\n",
    "\n",
    "@dataclass(frozen=True)\n",
    "class DataIngestionConfig:\n",
    "    root_dir: Path\n",
    "    source_url: str\n",
    "    local_data_file: Path\n",
    "    unzip_dir: Path\n",
    "    zip_file_dir: Path\n",
    "    dataset_source: Path"
   ]
  },
  {
   "cell_type": "markdown",
   "metadata": {},
   "source": [
    "#### Unzipping the dataset available and storing to right folder"
   ]
  },
  {
   "cell_type": "code",
   "execution_count": 7,
   "metadata": {},
   "outputs": [],
   "source": [
    "from vehicle_detection.constants import *\n",
    "from vehicle_detection.utils.common import read_yaml, create_directories"
   ]
  },
  {
   "cell_type": "code",
   "execution_count": 8,
   "metadata": {},
   "outputs": [],
   "source": [
    "class ConfigurationManager:\n",
    "    def __init__(self,\n",
    "                 config_filepath= CONFIG_FILE_PATH,\n",
    "                 params_filepath= PARAMS_FILE_PATH):\n",
    "        \"\"\"\n",
    "        Creating artifact directories from config.yaml file\n",
    "        \"\"\"\n",
    "        self.config= read_yaml(config_filepath)\n",
    "        self.params= read_yaml(params_filepath)\n",
    "        ##Creating Directories\n",
    "        create_directories([self.config.artifacts_root])\n",
    "    \n",
    "    def get_data_ingestion_config(self) -> DataIngestionConfig:\n",
    "        \"\"\"Creating directory for data ingestion from config.yaml file.\n",
    "\n",
    "        Returns:\n",
    "            DataIngestionConfig: Dataingestion data\n",
    "        \"\"\"\n",
    "        config= self.config.data_ingestion\n",
    "        ##Create directory that are required for data ingestion(taken from config.yaml)\n",
    "        create_directories([config.root_dir])\n",
    "\n",
    "        data_ingestion_config= DataIngestionConfig(\n",
    "            root_dir= config.root_dir,\n",
    "            source_url= config.source_url,\n",
    "            local_data_file= config.local_data_file,\n",
    "            unzip_dir= config.unzip_dir,\n",
    "            zip_file_dir= config.zip_file_dir,\n",
    "            dataset_source= config.dataset_source\n",
    "        )\n",
    "        return data_ingestion_config\n",
    "\n"
   ]
  },
  {
   "cell_type": "markdown",
   "metadata": {},
   "source": [
    "### now create data set and download into respective folders"
   ]
  },
  {
   "cell_type": "code",
   "execution_count": 9,
   "metadata": {},
   "outputs": [],
   "source": [
    "## Data Ingestion component\n",
    "class DataIngestion:\n",
    "    def __init__(self, config: DataIngestionConfig):\n",
    "        self.config= config\n",
    "    def _preprocess(self, zf: ZipFile, f:str, working_dir:str):\n",
    "        \"\"\"places all files into target folder\n",
    "           ignores files which has size of zero\n",
    "\n",
    "        Args:\n",
    "            zf (ZipFile): Zip file\n",
    "            f (str): file name with path\n",
    "            working_dir (str): targer working directory\n",
    "        \"\"\"\n",
    "        target_filepath= os.path.join(working_dir, f)\n",
    "        dir_name= os.path.dirname(target_filepath)\n",
    "        #print(f\"filepath: {f}\")\n",
    "        \n",
    "        if not os.path.exists(dir_name):\n",
    "            os.mkdir(dir_name)##Create file folder\n",
    "        print(f\"target file path: {target_filepath}\")\n",
    "        \n",
    "        \n",
    "        \n",
    "        ##If the folder has size of zero then delete.\n",
    "        if os.path.getsize(target_filepath)==0:\n",
    "            os.remove(target_filepath)\n",
    "    def copy_dataset_destination(self, source: Path, destination: Path):\n",
    "        ###Copy dataset into Data ingestion folder\n",
    "        shutil.copy2(source, destination)\n",
    "        \n",
    "    def unzip_and_clean(self):\n",
    "        \"\"\"unzip the dataset and clean the files \n",
    "           which has zero size\n",
    "        \"\"\"\n",
    "        ##print(self.config.local_data_file)\n",
    "        with ZipFile(file= self.config.local_data_file, mode=\"r\") as zf:\n",
    "            ##Getting the list of files available.\n",
    "            list_of_files= zf.namelist()\n",
    "            zf.extractall(self.config.unzip_dir)\n",
    "\n",
    "            ##extracting files that has only filename dataset\n",
    "            '''for f in list_of_files:\n",
    "                self._preprocess(zf, f, self.config.unzip_dir)'''\n",
    "    \n",
    "    def boundingbox_conversion_YOLO(self):\n",
    "        \"\"\"conversion of normal co-ordinates \n",
    "            to coordinates that yolo understands\"\"\"\n",
    "        config= self.config\n",
    "        ## Read the coordinates for conversion\n",
    "        dataresult= pd.read_csv('artifacts/data_ingestion/dataset/train_solution_bounding_boxes (1).csv')\n",
    "        with open(config.coordinates_path, 'r') as dataresult:\n",
    "            ##Getting coordinates of each pic and convert\n",
    "            for coordinates in dataresult[1:]:\n",
    "                ## Text to list conversion\n",
    "                coordinates= coordinates.split(',')\n",
    "                ## Looping around co-ordinates for conversion\n",
    "                image_name= coordinates[0]\n",
    "                object_code=0## default to 0 as there is only one detector\n",
    "                object_coordinates= coordinates[1:]\n",
    "                ##Creating new text file with image file name and adding the coordinates\n",
    "                image_path= os.path.join(config.coordinates_target_path, image_name.replace('.jpg', '.txt'))\n",
    "                ## If the file exists then append(when there are multiple detections) the coordinates else create new file\n",
    "                if os.path.exists(image_path):\n",
    "                    write_mode='a'\n",
    "                else:\n",
    "                    write_mode='w'\n",
    "                ## IF there are multiple coordinates in an image then append\n",
    "                ## 0 means car in this case. If there are multiple detectors then the number changes accordingly\n",
    "                if os.path.exists(image_path):\n",
    "                    classification_code= '\\n0 '\n",
    "                else:\n",
    "                    classification_code='0 '\n",
    "                ##Write the coordinates into file\n",
    "                with open(image_path, write_mode) as imagefile:\n",
    "                    ##Conversion of coordinates from string to number\n",
    "                    ## Last coordinates has \\n so trimming it using rstrip\n",
    "                    str_to_val_coordinates= [float(num.rstrip('\\n')) for num in object_coordinates]\n",
    "                    yolo_coordinates= pbx.convert_bbox(str_to_val_coordinates, from_type='voc', to_type='yolo', image_size= config.yolo_conversion_image_size)\n",
    "                    imagefile.write(classification_code)\n",
    "                    imagefile.write(' '.join([str(num) for num in yolo_coordinates]))"
   ]
  },
  {
   "cell_type": "markdown",
   "metadata": {},
   "source": [
    "### Coversion of co-ordinates to yolo format"
   ]
  },
  {
   "cell_type": "markdown",
   "metadata": {},
   "source": [
    "### Try out Data ingestion"
   ]
  },
  {
   "cell_type": "code",
   "execution_count": null,
   "metadata": {},
   "outputs": [
    {
     "name": "stdout",
     "output_type": "stream",
     "text": [
      "[2023-10-04 09:05:18,002: INFO: common]: yaml file:configs/config.yaml loaded successfully\n",
      "[2023-10-04 09:05:18,004: INFO: common]: yaml file:params.yaml loaded successfully\n",
      "[2023-10-04 09:05:18,005: INFO: common]: Created directory at:artifacts\n",
      "[2023-10-04 09:05:18,007: INFO: common]: Created directory at:artifacts/data_ingestion\n"
     ]
    }
   ],
   "source": [
    "try:\n",
    "    config= ConfigurationManager()\n",
    "    data_ingestion_config= config.get_data_ingestion_config()\n",
    "    data_ingestion= DataIngestion(config= data_ingestion_config)\n",
    "    data_ingestion.copy_dataset_destination(data_ingestion_config.dataset_source, data_ingestion_config.unzip_dir)\n",
    "    data_ingestion.unzip_and_clean()\n",
    "except Exception as e:\n",
    "    raise e "
   ]
  },
  {
   "cell_type": "code",
   "execution_count": 7,
   "metadata": {},
   "outputs": [
    {
     "data": {
      "text/plain": [
       "'/Users/vikaslakka/Desktop/FSDS/Computer_vision/projects/vehicle_detection_YOLO'"
      ]
     },
     "execution_count": 7,
     "metadata": {},
     "output_type": "execute_result"
    }
   ],
   "source": [
    "os.getcwd()"
   ]
  },
  {
   "cell_type": "code",
   "execution_count": 8,
   "metadata": {},
   "outputs": [],
   "source": [
    "import pandas as pd\n",
    "df= pd.read_csv('artifacts/data_ingestion/dataset/train_solution_bounding_boxes (1).csv')"
   ]
  },
  {
   "cell_type": "code",
   "execution_count": 31,
   "metadata": {},
   "outputs": [
    {
     "data": {
      "text/plain": [
       "559"
      ]
     },
     "execution_count": 31,
     "metadata": {},
     "output_type": "execute_result"
    }
   ],
   "source": [
    "len(df)"
   ]
  },
  {
   "cell_type": "code",
   "execution_count": 47,
   "metadata": {},
   "outputs": [
    {
     "data": {
      "text/html": [
       "<div>\n",
       "<style scoped>\n",
       "    .dataframe tbody tr th:only-of-type {\n",
       "        vertical-align: middle;\n",
       "    }\n",
       "\n",
       "    .dataframe tbody tr th {\n",
       "        vertical-align: top;\n",
       "    }\n",
       "\n",
       "    .dataframe thead th {\n",
       "        text-align: right;\n",
       "    }\n",
       "</style>\n",
       "<table border=\"1\" class=\"dataframe\">\n",
       "  <thead>\n",
       "    <tr style=\"text-align: right;\">\n",
       "      <th></th>\n",
       "      <th>image</th>\n",
       "      <th>xmin</th>\n",
       "      <th>ymin</th>\n",
       "      <th>xmax</th>\n",
       "      <th>ymax</th>\n",
       "    </tr>\n",
       "  </thead>\n",
       "  <tbody>\n",
       "    <tr>\n",
       "      <th>0</th>\n",
       "      <td>vid_4_1000.jpg</td>\n",
       "      <td>281.259045</td>\n",
       "      <td>187.035071</td>\n",
       "      <td>327.727931</td>\n",
       "      <td>223.225547</td>\n",
       "    </tr>\n",
       "    <tr>\n",
       "      <th>1</th>\n",
       "      <td>vid_4_10000.jpg</td>\n",
       "      <td>15.163531</td>\n",
       "      <td>187.035071</td>\n",
       "      <td>120.329957</td>\n",
       "      <td>236.430180</td>\n",
       "    </tr>\n",
       "    <tr>\n",
       "      <th>2</th>\n",
       "      <td>vid_4_10040.jpg</td>\n",
       "      <td>239.192475</td>\n",
       "      <td>176.764801</td>\n",
       "      <td>361.968162</td>\n",
       "      <td>236.430180</td>\n",
       "    </tr>\n",
       "    <tr>\n",
       "      <th>3</th>\n",
       "      <td>vid_4_10020.jpg</td>\n",
       "      <td>496.483358</td>\n",
       "      <td>172.363256</td>\n",
       "      <td>630.020260</td>\n",
       "      <td>231.539575</td>\n",
       "    </tr>\n",
       "    <tr>\n",
       "      <th>4</th>\n",
       "      <td>vid_4_10060.jpg</td>\n",
       "      <td>16.630970</td>\n",
       "      <td>186.546010</td>\n",
       "      <td>132.558611</td>\n",
       "      <td>238.386422</td>\n",
       "    </tr>\n",
       "  </tbody>\n",
       "</table>\n",
       "</div>"
      ],
      "text/plain": [
       "             image        xmin        ymin        xmax        ymax\n",
       "0   vid_4_1000.jpg  281.259045  187.035071  327.727931  223.225547\n",
       "1  vid_4_10000.jpg   15.163531  187.035071  120.329957  236.430180\n",
       "2  vid_4_10040.jpg  239.192475  176.764801  361.968162  236.430180\n",
       "3  vid_4_10020.jpg  496.483358  172.363256  630.020260  231.539575\n",
       "4  vid_4_10060.jpg   16.630970  186.546010  132.558611  238.386422"
      ]
     },
     "execution_count": 47,
     "metadata": {},
     "output_type": "execute_result"
    }
   ],
   "source": [
    "dataresult.head()"
   ]
  },
  {
   "cell_type": "code",
   "execution_count": 48,
   "metadata": {},
   "outputs": [
    {
     "data": {
      "text/plain": [
       "'vid_4_10040.jpg'"
      ]
     },
     "execution_count": 48,
     "metadata": {},
     "output_type": "execute_result"
    }
   ],
   "source": [
    "dataresult['image'][2]"
   ]
  },
  {
   "cell_type": "code",
   "execution_count": null,
   "metadata": {},
   "outputs": [],
   "source": [
    "dataresult= pd.read_csv('artifacts/data_ingestion/dataset/train_solution_bounding_boxes (1).csv')\n",
    "\n",
    "## Loop around data frame\n",
    "for row in range(len(dataresult)):\n",
    "    image_name=dataresult['image'][row]\n",
    "    object_code=0## default to 0 as there is only one detector\n",
    "    object_coordinates= [dataresult['xmin'][row], dataresult['ymin'][row],\n",
    "                          dataresult['xmax'][row], dataresult['ymax'][row] ]\n",
    "    "
   ]
  },
  {
   "cell_type": "code",
   "execution_count": 58,
   "metadata": {},
   "outputs": [
    {
     "data": {
      "text/plain": [
       "[239.1924747, 361.9681621]"
      ]
     },
     "execution_count": 58,
     "metadata": {},
     "output_type": "execute_result"
    }
   ],
   "source": [
    "list(dataresult.columns)\n",
    "[dataresult['xmin'][2], dataresult['xmax'][2]]"
   ]
  },
  {
   "cell_type": "code",
   "execution_count": null,
   "metadata": {},
   "outputs": [],
   "source": [
    "\n",
    "## Read the coordinates for conversion\n",
    "with open(config.coordinates_path, 'r') as dataresult:\n",
    "    ##Getting coordinates of each pic and convert\n",
    "    for coordinates in dataresult[1:]:\n",
    "        ## Text to list conversion\n",
    "        coordinates= coordinates.split(',')\n",
    "        ## Looping around co-ordinates for conversion\n",
    "        image_name= coordinates[0]\n",
    "        object_code=0## default to 0 as there is only one detector\n",
    "        object_coordinates= coordinates[1:]\n",
    "        ##Creating new text file with image file name and adding the coordinates\n",
    "        image_path= os.path.join(config.coordinates_target_path, image_name.replace('.jpg', '.txt'))\n",
    "        ## If the file exists then append(when there are multiple detections) the coordinates else create new file\n",
    "        if os.path.exists(image_path):\n",
    "            write_mode='a'\n",
    "        else:\n",
    "            write_mode='w'\n",
    "        ## IF there are multiple coordinates in an image then append\n",
    "        ## 0 means car in this case. If there are multiple detectors then the number changes accordingly\n",
    "        if os.path.exists(image_path):\n",
    "            classification_code= '\\n0 '\n",
    "        else:\n",
    "            classification_code='0 '\n",
    "        ##Write the coordinates into file\n",
    "        with open(image_path, write_mode) as imagefile:\n",
    "            ##Conversion of coordinates from string to number\n",
    "            ## Last coordinates has \\n so trimming it using rstrip\n",
    "            str_to_val_coordinates= [float(num.rstrip('\\n')) for num in object_coordinates]\n",
    "            yolo_coordinates= pbx.convert_bbox(str_to_val_coordinates, from_type='voc', to_type='yolo', image_size= config.yolo_conversion_image_size)\n",
    "            imagefile.write(classification_code)\n",
    "            imagefile.write(' '.join([str(num) for num in yolo_coordinates]))"
   ]
  }
 ],
 "metadata": {
  "kernelspec": {
   "display_name": "vehicledetector",
   "language": "python",
   "name": "python3"
  },
  "language_info": {
   "codemirror_mode": {
    "name": "ipython",
    "version": 3
   },
   "file_extension": ".py",
   "mimetype": "text/x-python",
   "name": "python",
   "nbconvert_exporter": "python",
   "pygments_lexer": "ipython3",
   "version": "3.9.18"
  },
  "orig_nbformat": 4
 },
 "nbformat": 4,
 "nbformat_minor": 2
}
